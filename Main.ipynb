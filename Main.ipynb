{
  "nbformat": 4,
  "nbformat_minor": 0,
  "metadata": {
    "colab": {
      "name": "BE_PROJECT",
      "provenance": [],
      "collapsed_sections": [],
      "mount_file_id": "1Xp3JZH92YYnKXcelskpvkC0gj4ja3UgQ",
      "authorship_tag": "ABX9TyOKcEZ7U7P+Ka3cuRMxfuxD"
    },
    "kernelspec": {
      "name": "python3",
      "display_name": "Python 3"
    },
    "accelerator": "GPU"
  },
  "cells": [
    {
      "cell_type": "code",
      "metadata": {
        "id": "BjgHSbqftUKA",
        "colab_type": "code",
        "outputId": "a0d30691-d40b-4f5f-dbcf-6436399cf89c",
        "colab": {
          "base_uri": "https://localhost:8080/",
          "height": 34
        }
      },
      "source": [
        "from natsort import natsorted\n",
        "import os\n",
        "from tensorflow.keras.applications.inception_v3 import preprocess_input\n",
        "from tensorflow.python.keras.preprocessing import image\n",
        "from tensorflow.python.keras.models import load_model,Model,model_from_json\n",
        "import numpy as np\n",
        "import cv2\n",
        "def create_data():\n",
        "\tif not os.path.exists(os.path.join('test')):\n",
        "\t\tos.mkdir('test')\n",
        "\tcap= cv2.VideoCapture('test.avi')\n",
        "\ti=0\n",
        "\tbacksub = cv2.bgsegm.createBackgroundSubtractorMOG()\n",
        "\tbkgrd = cv2.imread('bkgrd.jpg')\n",
        "\tcount = 0\n",
        "\twhile(cap.isOpened()):\n",
        "\t\t\tret, frame = cap.read()\n",
        "\t\t\tif ret == False:\n",
        "\t\t\t\t\tbreak\n",
        "\t\t\tif i>24 and i%2==0:    \n",
        "\t\t\t\t\tcount+=1\n",
        "\t\t\t\t\tframe = cv2.absdiff(bkgrd,frame)\n",
        "\t\t\t\t\tret,frame = cv2.threshold(frame,30,255,cv2.THRESH_BINARY)\n",
        "\t\t\t\t\tframe = cv2.cvtColor(frame, cv2.COLOR_BGR2GRAY)\n",
        "\t\t\t\t\tframe = backsub.apply(frame)\n",
        "\t\t\t\t\tcv2.imwrite('./test/frame'+str(count)+'.jpg',frame)\n",
        "\t\t\t\t\tif count>=40:\n",
        "\t\t\t\t\t\t\tbreak\n",
        "\t\t\ti+=1\n",
        "\tcap.release()\n",
        "create_data() \n",
        "inceptionmodel = load_model('/content/drive/My Drive/MODEL_INCEPTION/inceptionFinal.h5py')\n",
        "inceptionmodel = Model(inceptionmodel.inputs,inceptionmodel.layers[-3].output)\n",
        "path = os.path.join('test')\n",
        "def extract(img_path):\n",
        "\timg = image.load_img(img_path,target_size=(299,299))\n",
        "\tx = image.img_to_array(img)\n",
        "\tdel(img)\n",
        "\tx = np.expand_dims(x,axis=0)\n",
        "\tx = preprocess_input(x)\n",
        "\tfeatures = inceptionmodel.predict(x)\n",
        "\tdel(x)\n",
        "\tfeatures = features[0]\n",
        "\treturn features\n",
        "a = np.zeros((1,2048))\n",
        "for f in enumerate(natsorted(os.listdir(path))):\n",
        "\tftrs = extract(os.path.join(path,f[1]))\n",
        "\ta = np.vstack((a,ftrs))\n",
        "a = np.delete(a,0,0)\n",
        "a = np.expand_dims(a,axis=0)\n",
        "with open('/content/drive/My Drive/LSTM_MODEL/modelLSTM2.json', 'r') as json_file:\n",
        "\tloaded_model_json = json_file.read()\n",
        "lstm_model = model_from_json(loaded_model_json)\n",
        "del(loaded_model_json)\n",
        "lstm_model.load_weights('/content/drive/My Drive/LSTM_MODEL/modelLSTM2_weights.h5')\n",
        "probabs = lstm_model.predict(a,batch_size=40)\n",
        "probabs = probabs[0]\n",
        "top_values_index = sorted(range(len(probabs)), key=lambda i: probabs[i])[-5:]\n",
        "print(sorted(top_values_index))"
      ],
      "execution_count": 0,
      "outputs": [
        {
          "output_type": "stream",
          "text": [
            "[6, 26, 59, 102, 105]\n"
          ],
          "name": "stdout"
        }
      ]
    }
  ]
}